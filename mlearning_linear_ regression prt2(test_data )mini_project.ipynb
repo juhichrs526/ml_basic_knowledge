{
 "cells": [
  {
   "cell_type": "code",
   "execution_count": 1,
   "id": "a0df91ae",
   "metadata": {},
   "outputs": [],
   "source": [
    "import numpy as np\n",
    "import pandas as pd\n",
    "import matplotlib.pyplot as plt\n",
    "import seaborn as sn"
   ]
  },
  {
   "cell_type": "code",
   "execution_count": 2,
   "id": "9813e9a8",
   "metadata": {},
   "outputs": [],
   "source": [
    "df=pd.read_csv(r'C:\\Users\\DeLL\\Downloads\\test.csv')"
   ]
  },
  {
   "cell_type": "code",
   "execution_count": 3,
   "id": "b917d30b",
   "metadata": {},
   "outputs": [
    {
     "data": {
      "text/html": [
       "<div>\n",
       "<style scoped>\n",
       "    .dataframe tbody tr th:only-of-type {\n",
       "        vertical-align: middle;\n",
       "    }\n",
       "\n",
       "    .dataframe tbody tr th {\n",
       "        vertical-align: top;\n",
       "    }\n",
       "\n",
       "    .dataframe thead th {\n",
       "        text-align: right;\n",
       "    }\n",
       "</style>\n",
       "<table border=\"1\" class=\"dataframe\">\n",
       "  <thead>\n",
       "    <tr style=\"text-align: right;\">\n",
       "      <th></th>\n",
       "      <th>x</th>\n",
       "      <th>y</th>\n",
       "    </tr>\n",
       "  </thead>\n",
       "  <tbody>\n",
       "    <tr>\n",
       "      <th>0</th>\n",
       "      <td>77</td>\n",
       "      <td>79.775152</td>\n",
       "    </tr>\n",
       "    <tr>\n",
       "      <th>1</th>\n",
       "      <td>21</td>\n",
       "      <td>23.177279</td>\n",
       "    </tr>\n",
       "    <tr>\n",
       "      <th>2</th>\n",
       "      <td>22</td>\n",
       "      <td>25.609262</td>\n",
       "    </tr>\n",
       "    <tr>\n",
       "      <th>3</th>\n",
       "      <td>20</td>\n",
       "      <td>17.857388</td>\n",
       "    </tr>\n",
       "    <tr>\n",
       "      <th>4</th>\n",
       "      <td>36</td>\n",
       "      <td>41.849864</td>\n",
       "    </tr>\n",
       "    <tr>\n",
       "      <th>...</th>\n",
       "      <td>...</td>\n",
       "      <td>...</td>\n",
       "    </tr>\n",
       "    <tr>\n",
       "      <th>295</th>\n",
       "      <td>71</td>\n",
       "      <td>68.545888</td>\n",
       "    </tr>\n",
       "    <tr>\n",
       "      <th>296</th>\n",
       "      <td>46</td>\n",
       "      <td>47.334876</td>\n",
       "    </tr>\n",
       "    <tr>\n",
       "      <th>297</th>\n",
       "      <td>55</td>\n",
       "      <td>54.090637</td>\n",
       "    </tr>\n",
       "    <tr>\n",
       "      <th>298</th>\n",
       "      <td>62</td>\n",
       "      <td>63.297171</td>\n",
       "    </tr>\n",
       "    <tr>\n",
       "      <th>299</th>\n",
       "      <td>47</td>\n",
       "      <td>52.459467</td>\n",
       "    </tr>\n",
       "  </tbody>\n",
       "</table>\n",
       "<p>300 rows × 2 columns</p>\n",
       "</div>"
      ],
      "text/plain": [
       "      x          y\n",
       "0    77  79.775152\n",
       "1    21  23.177279\n",
       "2    22  25.609262\n",
       "3    20  17.857388\n",
       "4    36  41.849864\n",
       "..   ..        ...\n",
       "295  71  68.545888\n",
       "296  46  47.334876\n",
       "297  55  54.090637\n",
       "298  62  63.297171\n",
       "299  47  52.459467\n",
       "\n",
       "[300 rows x 2 columns]"
      ]
     },
     "execution_count": 3,
     "metadata": {},
     "output_type": "execute_result"
    }
   ],
   "source": [
    "df"
   ]
  },
  {
   "cell_type": "code",
   "execution_count": 8,
   "id": "6380c8bb",
   "metadata": {},
   "outputs": [],
   "source": [
    "x=df[['x']]"
   ]
  },
  {
   "cell_type": "code",
   "execution_count": 9,
   "id": "a06493ef",
   "metadata": {},
   "outputs": [
    {
     "data": {
      "text/html": [
       "<div>\n",
       "<style scoped>\n",
       "    .dataframe tbody tr th:only-of-type {\n",
       "        vertical-align: middle;\n",
       "    }\n",
       "\n",
       "    .dataframe tbody tr th {\n",
       "        vertical-align: top;\n",
       "    }\n",
       "\n",
       "    .dataframe thead th {\n",
       "        text-align: right;\n",
       "    }\n",
       "</style>\n",
       "<table border=\"1\" class=\"dataframe\">\n",
       "  <thead>\n",
       "    <tr style=\"text-align: right;\">\n",
       "      <th></th>\n",
       "      <th>x</th>\n",
       "    </tr>\n",
       "  </thead>\n",
       "  <tbody>\n",
       "    <tr>\n",
       "      <th>0</th>\n",
       "      <td>77</td>\n",
       "    </tr>\n",
       "    <tr>\n",
       "      <th>1</th>\n",
       "      <td>21</td>\n",
       "    </tr>\n",
       "    <tr>\n",
       "      <th>2</th>\n",
       "      <td>22</td>\n",
       "    </tr>\n",
       "    <tr>\n",
       "      <th>3</th>\n",
       "      <td>20</td>\n",
       "    </tr>\n",
       "    <tr>\n",
       "      <th>4</th>\n",
       "      <td>36</td>\n",
       "    </tr>\n",
       "    <tr>\n",
       "      <th>...</th>\n",
       "      <td>...</td>\n",
       "    </tr>\n",
       "    <tr>\n",
       "      <th>295</th>\n",
       "      <td>71</td>\n",
       "    </tr>\n",
       "    <tr>\n",
       "      <th>296</th>\n",
       "      <td>46</td>\n",
       "    </tr>\n",
       "    <tr>\n",
       "      <th>297</th>\n",
       "      <td>55</td>\n",
       "    </tr>\n",
       "    <tr>\n",
       "      <th>298</th>\n",
       "      <td>62</td>\n",
       "    </tr>\n",
       "    <tr>\n",
       "      <th>299</th>\n",
       "      <td>47</td>\n",
       "    </tr>\n",
       "  </tbody>\n",
       "</table>\n",
       "<p>300 rows × 1 columns</p>\n",
       "</div>"
      ],
      "text/plain": [
       "      x\n",
       "0    77\n",
       "1    21\n",
       "2    22\n",
       "3    20\n",
       "4    36\n",
       "..   ..\n",
       "295  71\n",
       "296  46\n",
       "297  55\n",
       "298  62\n",
       "299  47\n",
       "\n",
       "[300 rows x 1 columns]"
      ]
     },
     "execution_count": 9,
     "metadata": {},
     "output_type": "execute_result"
    }
   ],
   "source": [
    "x"
   ]
  },
  {
   "cell_type": "code",
   "execution_count": 16,
   "id": "5fdd3591",
   "metadata": {},
   "outputs": [],
   "source": [
    "y=df[['y']]"
   ]
  },
  {
   "cell_type": "code",
   "execution_count": 17,
   "id": "d3d076ae",
   "metadata": {},
   "outputs": [
    {
     "data": {
      "text/html": [
       "<div>\n",
       "<style scoped>\n",
       "    .dataframe tbody tr th:only-of-type {\n",
       "        vertical-align: middle;\n",
       "    }\n",
       "\n",
       "    .dataframe tbody tr th {\n",
       "        vertical-align: top;\n",
       "    }\n",
       "\n",
       "    .dataframe thead th {\n",
       "        text-align: right;\n",
       "    }\n",
       "</style>\n",
       "<table border=\"1\" class=\"dataframe\">\n",
       "  <thead>\n",
       "    <tr style=\"text-align: right;\">\n",
       "      <th></th>\n",
       "      <th>y</th>\n",
       "    </tr>\n",
       "  </thead>\n",
       "  <tbody>\n",
       "    <tr>\n",
       "      <th>0</th>\n",
       "      <td>79.775152</td>\n",
       "    </tr>\n",
       "    <tr>\n",
       "      <th>1</th>\n",
       "      <td>23.177279</td>\n",
       "    </tr>\n",
       "    <tr>\n",
       "      <th>2</th>\n",
       "      <td>25.609262</td>\n",
       "    </tr>\n",
       "    <tr>\n",
       "      <th>3</th>\n",
       "      <td>17.857388</td>\n",
       "    </tr>\n",
       "    <tr>\n",
       "      <th>4</th>\n",
       "      <td>41.849864</td>\n",
       "    </tr>\n",
       "    <tr>\n",
       "      <th>...</th>\n",
       "      <td>...</td>\n",
       "    </tr>\n",
       "    <tr>\n",
       "      <th>295</th>\n",
       "      <td>68.545888</td>\n",
       "    </tr>\n",
       "    <tr>\n",
       "      <th>296</th>\n",
       "      <td>47.334876</td>\n",
       "    </tr>\n",
       "    <tr>\n",
       "      <th>297</th>\n",
       "      <td>54.090637</td>\n",
       "    </tr>\n",
       "    <tr>\n",
       "      <th>298</th>\n",
       "      <td>63.297171</td>\n",
       "    </tr>\n",
       "    <tr>\n",
       "      <th>299</th>\n",
       "      <td>52.459467</td>\n",
       "    </tr>\n",
       "  </tbody>\n",
       "</table>\n",
       "<p>300 rows × 1 columns</p>\n",
       "</div>"
      ],
      "text/plain": [
       "             y\n",
       "0    79.775152\n",
       "1    23.177279\n",
       "2    25.609262\n",
       "3    17.857388\n",
       "4    41.849864\n",
       "..         ...\n",
       "295  68.545888\n",
       "296  47.334876\n",
       "297  54.090637\n",
       "298  63.297171\n",
       "299  52.459467\n",
       "\n",
       "[300 rows x 1 columns]"
      ]
     },
     "execution_count": 17,
     "metadata": {},
     "output_type": "execute_result"
    }
   ],
   "source": [
    "y"
   ]
  },
  {
   "cell_type": "code",
   "execution_count": 4,
   "id": "bdf5ba23",
   "metadata": {},
   "outputs": [
    {
     "data": {
      "text/plain": [
       "(300, 2)"
      ]
     },
     "execution_count": 4,
     "metadata": {},
     "output_type": "execute_result"
    }
   ],
   "source": [
    "#find the rows and col. \n",
    "df.shape"
   ]
  },
  {
   "cell_type": "code",
   "execution_count": 13,
   "id": "3d586441",
   "metadata": {},
   "outputs": [
    {
     "data": {
      "text/plain": [
       "Index(['x', 'y'], dtype='object')"
      ]
     },
     "execution_count": 13,
     "metadata": {},
     "output_type": "execute_result"
    }
   ],
   "source": [
    "#find the col. name\n",
    "df.columns"
   ]
  },
  {
   "cell_type": "code",
   "execution_count": 35,
   "id": "a55a53a2",
   "metadata": {},
   "outputs": [
    {
     "ename": "NameError",
     "evalue": "name 'columns' is not defined",
     "output_type": "error",
     "traceback": [
      "\u001b[1;31m---------------------------------------------------------------------------\u001b[0m",
      "\u001b[1;31mNameError\u001b[0m                                 Traceback (most recent call last)",
      "\u001b[1;32m<ipython-input-35-bacfb54a0568>\u001b[0m in \u001b[0;36m<module>\u001b[1;34m\u001b[0m\n\u001b[1;32m----> 1\u001b[1;33m \u001b[0mx\u001b[0m\u001b[1;33m=\u001b[0m\u001b[0mdf\u001b[0m\u001b[1;33m[\u001b[0m\u001b[0mcolumns\u001b[0m\u001b[1;33m]\u001b[0m\u001b[1;33m\u001b[0m\u001b[1;33m\u001b[0m\u001b[0m\n\u001b[0m",
      "\u001b[1;31mNameError\u001b[0m: name 'columns' is not defined"
     ]
    }
   ],
   "source": [
    "x=df[columns]"
   ]
  },
  {
   "cell_type": "code",
   "execution_count": 14,
   "id": "f8e602fb",
   "metadata": {},
   "outputs": [],
   "source": [
    "from sklearn.model_selection import train_test_split"
   ]
  },
  {
   "cell_type": "code",
   "execution_count": 18,
   "id": "8b744e3a",
   "metadata": {},
   "outputs": [],
   "source": [
    "x_train,x_test,y_train,y_test = train_test_split(x,y,test_size=0.3,random_state=101)"
   ]
  },
  {
   "cell_type": "code",
   "execution_count": 19,
   "id": "29920afc",
   "metadata": {},
   "outputs": [],
   "source": [
    "from sklearn.linear_model import LinearRegression"
   ]
  },
  {
   "cell_type": "code",
   "execution_count": 20,
   "id": "ce94c14b",
   "metadata": {},
   "outputs": [],
   "source": [
    "lr=LinearRegression()"
   ]
  },
  {
   "cell_type": "code",
   "execution_count": 22,
   "id": "b55d0b26",
   "metadata": {},
   "outputs": [
    {
     "data": {
      "text/plain": [
       "LinearRegression()"
      ]
     },
     "execution_count": 22,
     "metadata": {},
     "output_type": "execute_result"
    }
   ],
   "source": [
    "lr.fit(x_train,y_train)"
   ]
  },
  {
   "cell_type": "code",
   "execution_count": 23,
   "id": "0fb10493",
   "metadata": {},
   "outputs": [
    {
     "data": {
      "text/plain": [
       "array([-0.70716236])"
      ]
     },
     "execution_count": 23,
     "metadata": {},
     "output_type": "execute_result"
    }
   ],
   "source": [
    "lr.intercept_"
   ]
  },
  {
   "cell_type": "code",
   "execution_count": 24,
   "id": "dad37920",
   "metadata": {},
   "outputs": [
    {
     "data": {
      "text/plain": [
       "array([[1.01616788]])"
      ]
     },
     "execution_count": 24,
     "metadata": {},
     "output_type": "execute_result"
    }
   ],
   "source": [
    "lr.coef_"
   ]
  },
  {
   "cell_type": "code",
   "execution_count": 25,
   "id": "62b85b2a",
   "metadata": {},
   "outputs": [],
   "source": [
    "pred=lr.predict(x)"
   ]
  },
  {
   "cell_type": "code",
   "execution_count": 26,
   "id": "3a867b48",
   "metadata": {},
   "outputs": [
    {
     "data": {
      "text/plain": [
       "array([[ 77.53776407],\n",
       "       [ 20.63236303],\n",
       "       [ 21.64853091],\n",
       "       [ 19.61619516],\n",
       "       [ 35.87488117],\n",
       "       [ 14.53535578],\n",
       "       [ 62.29524594],\n",
       "       [ 95.82878584],\n",
       "       [ 19.61619516],\n",
       "       [  4.37367702],\n",
       "       [  3.35750915],\n",
       "       [ 18.60002728],\n",
       "       [ 96.84495371],\n",
       "       [ 62.29524594],\n",
       "       [ 35.87488117],\n",
       "       [ 14.53535578],\n",
       "       [ 65.34374956],\n",
       "       [ 13.5191879 ],\n",
       "       [ 87.69944283],\n",
       "       [ 69.40842107],\n",
       "       [ 89.73177858],\n",
       "       [ 51.1173993 ],\n",
       "       [ 89.73177858],\n",
       "       [ 26.72937029],\n",
       "       [ 97.86112159],\n",
       "       [ 58.23057443],\n",
       "       [ 79.57009982],\n",
       "       [ 20.63236303],\n",
       "       [ 93.79645008],\n",
       "       [ 26.72937029],\n",
       "       [ 99.89345734],\n",
       "       [ 30.79404179],\n",
       "       [ 32.82637754],\n",
       "       [ 80.5862677 ],\n",
       "       [ 27.74553816],\n",
       "       [ 47.0527278 ],\n",
       "       [ 53.14973506],\n",
       "       [ 69.40842107],\n",
       "       [ 27.74553816],\n",
       "       [ 32.82637754],\n",
       "       [ 91.76411433],\n",
       "       [ 71.44075682],\n",
       "       [ 50.10123143],\n",
       "       [ 76.5215962 ],\n",
       "       [  3.35750915],\n",
       "       [ 36.89104904],\n",
       "       [ 70.42458894],\n",
       "       [ 68.39225319],\n",
       "       [ 39.93955267],\n",
       "       [ 34.85871329],\n",
       "       [ 94.81261796],\n",
       "       [ 88.71561071],\n",
       "       [ 52.13356718],\n",
       "       [ 30.79404179],\n",
       "       [ 59.24674231],\n",
       "       [ -0.70716236],\n",
       "       [ 38.9233848 ],\n",
       "       [ 64.32758169],\n",
       "       [ 69.40842107],\n",
       "       [ 57.21440656],\n",
       "       [ 12.50302003],\n",
       "       [ 72.45692469],\n",
       "       [ 76.5215962 ],\n",
       "       [ 61.27907806],\n",
       "       [ 82.61860345],\n",
       "       [ 17.58385941],\n",
       "       [ 40.95572055],\n",
       "       [ 50.10123143],\n",
       "       [ 55.18207081],\n",
       "       [ 12.50302003],\n",
       "       [ 46.03655993],\n",
       "       [ 12.50302003],\n",
       "       [ 79.57009982],\n",
       "       [ 53.14973506],\n",
       "       [ 14.53535578],\n",
       "       [ 27.74553816],\n",
       "       [ 81.60243558],\n",
       "       [ 69.40842107],\n",
       "       [ 52.13356718],\n",
       "       [ 84.6509392 ],\n",
       "       [ 68.39225319],\n",
       "       [ 26.72937029],\n",
       "       [ 56.19823868],\n",
       "       [ 48.06889568],\n",
       "       [ 39.93955267],\n",
       "       [ 38.9233848 ],\n",
       "       [ 82.61860345],\n",
       "       [100.90962521],\n",
       "       [ 59.24674231],\n",
       "       [ 42.9880563 ],\n",
       "       [ 67.37608532],\n",
       "       [ 37.90721692],\n",
       "       [ 63.31141381],\n",
       "       [ 91.76411433],\n",
       "       [ 60.26291019],\n",
       "       [ 13.5191879 ],\n",
       "       [ 20.63236303],\n",
       "       [ 87.69944283],\n",
       "       [ 73.47309257],\n",
       "       [ 31.81020967],\n",
       "       [  1.3251734 ],\n",
       "       [ 82.61860345],\n",
       "       [ 18.60002728],\n",
       "       [ 74.48926045],\n",
       "       [ 41.97188842],\n",
       "       [ 11.48685215],\n",
       "       [  0.30900552],\n",
       "       [ 90.74794646],\n",
       "       [ 89.73177858],\n",
       "       [ -0.70716236],\n",
       "       [ 40.95572055],\n",
       "       [ 15.55152366],\n",
       "       [ 94.81261796],\n",
       "       [ 97.86112159],\n",
       "       [ 66.35991744],\n",
       "       [ 23.68086666],\n",
       "       [ 16.56769153],\n",
       "       [ 90.74794646],\n",
       "       [ 12.50302003],\n",
       "       [ -0.70716236],\n",
       "       [ 64.32758169],\n",
       "       [ 96.84495371],\n",
       "       [ 98.87728946],\n",
       "       [ 11.48685215],\n",
       "       [ 40.95572055],\n",
       "       [ 47.0527278 ],\n",
       "       [ 78.55393195],\n",
       "       [ 19.61619516],\n",
       "       [ 89.73177858],\n",
       "       [ 28.76170604],\n",
       "       [ 64.32758169],\n",
       "       [ 75.50542832],\n",
       "       [ 11.48685215],\n",
       "       [ 24.69703454],\n",
       "       [ 27.74553816],\n",
       "       [ 29.77787392],\n",
       "       [ 65.34374956],\n",
       "       [ 59.24674231],\n",
       "       [ 64.32758169],\n",
       "       [ 53.14973506],\n",
       "       [ 71.44075682],\n",
       "       [ 97.86112159],\n",
       "       [ 73.47309257],\n",
       "       [  8.43834853],\n",
       "       [ 11.48685215],\n",
       "       [ 63.31141381],\n",
       "       [ 99.89345734],\n",
       "       [ 60.26291019],\n",
       "       [ 34.85871329],\n",
       "       [  1.3251734 ],\n",
       "       [ 60.26291019],\n",
       "       [ 31.81020967],\n",
       "       [ 94.81261796],\n",
       "       [ 84.6509392 ],\n",
       "       [ 63.31141381],\n",
       "       [ 21.64853091],\n",
       "       [ 81.60243558],\n",
       "       [ 93.79645008],\n",
       "       [ 32.82637754],\n",
       "       [  6.40601277],\n",
       "       [ 41.97188842],\n",
       "       [ 46.03655993],\n",
       "       [ 54.16590293],\n",
       "       [ 15.55152366],\n",
       "       [ 49.08506355],\n",
       "       [ 42.9880563 ],\n",
       "       [ 95.82878584],\n",
       "       [ 66.35991744],\n",
       "       [ 20.63236303],\n",
       "       [ 34.85871329],\n",
       "       [ 80.5862677 ],\n",
       "       [ 36.89104904],\n",
       "       [ 54.16590293],\n",
       "       [ 56.19823868],\n",
       "       [  0.30900552],\n",
       "       [ 31.81020967],\n",
       "       [ 58.23057443],\n",
       "       [ 31.81020967],\n",
       "       [ 46.03655993],\n",
       "       [ 72.45692469],\n",
       "       [ 16.56769153],\n",
       "       [ 97.86112159],\n",
       "       [ 93.79645008],\n",
       "       [ 91.76411433],\n",
       "       [ 36.89104904],\n",
       "       [  3.35750915],\n",
       "       [ 54.16590293],\n",
       "       [ 51.1173993 ],\n",
       "       [ 26.72937029],\n",
       "       [ 46.03655993],\n",
       "       [ 92.78028221],\n",
       "       [ 73.47309257],\n",
       "       [ 77.53776407],\n",
       "       [ 91.76411433],\n",
       "       [ 61.27907806],\n",
       "       [ 99.89345734],\n",
       "       [  3.35750915],\n",
       "       [ 72.45692469],\n",
       "       [ 18.60002728],\n",
       "       [ 57.21440656],\n",
       "       [ 78.55393195],\n",
       "       [ 25.71320241],\n",
       "       [ 74.48926045],\n",
       "       [ 90.74794646],\n",
       "       [ 66.35991744],\n",
       "       [ 12.50302003],\n",
       "       [ 39.93955267],\n",
       "       [ 77.53776407],\n",
       "       [ 67.37608532],\n",
       "       [ 75.50542832],\n",
       "       [ 22.66469879],\n",
       "       [ 45.02039205],\n",
       "       [ 59.24674231],\n",
       "       [ 44.00422417],\n",
       "       [ 22.66469879],\n",
       "       [ 55.18207081],\n",
       "       [ 55.18207081],\n",
       "       [ 95.82878584],\n",
       "       [ 11.48685215],\n",
       "       [  3.35750915],\n",
       "       [  6.40601277],\n",
       "       [100.90962521],\n",
       "       [ 48.06889568],\n",
       "       [ 41.97188842],\n",
       "       [ 96.84495371],\n",
       "       [ 38.9233848 ],\n",
       "       [100.90962521],\n",
       "       [ 87.69944283],\n",
       "       [ 13.5191879 ],\n",
       "       [ 13.5191879 ],\n",
       "       [ 36.89104904],\n",
       "       [  4.37367702],\n",
       "       [ 88.71561071],\n",
       "       [ 91.76411433],\n",
       "       [ 65.34374956],\n",
       "       [ 74.48926045],\n",
       "       [ 56.19823868],\n",
       "       [ 15.55152366],\n",
       "       [  4.37367702],\n",
       "       [ 27.74553816],\n",
       "       [ 92.78028221],\n",
       "       [ 46.03655993],\n",
       "       [ 54.16590293],\n",
       "       [ 38.9233848 ],\n",
       "       [ 44.00422417],\n",
       "       [ 30.79404179],\n",
       "       [ 68.39225319],\n",
       "       [ 86.68327495],\n",
       "       [ 90.74794646],\n",
       "       [ 37.90721692],\n",
       "       [ 20.63236303],\n",
       "       [ 95.82878584],\n",
       "       [ 56.19823868],\n",
       "       [ 60.26291019],\n",
       "       [ 65.34374956],\n",
       "       [ 78.55393195],\n",
       "       [ 89.73177858],\n",
       "       [  5.3898449 ],\n",
       "       [ 67.37608532],\n",
       "       [ 35.87488117],\n",
       "       [ 15.55152366],\n",
       "       [100.90962521],\n",
       "       [ 45.02039205],\n",
       "       [ 73.47309257],\n",
       "       [ 57.21440656],\n",
       "       [ 19.61619516],\n",
       "       [ 76.5215962 ],\n",
       "       [ 33.84254542],\n",
       "       [ 55.18207081],\n",
       "       [ 72.45692469],\n",
       "       [ 55.18207081],\n",
       "       [  7.42218065],\n",
       "       [ 56.19823868],\n",
       "       [ 72.45692469],\n",
       "       [ 58.23057443],\n",
       "       [  5.3898449 ],\n",
       "       [ 96.84495371],\n",
       "       [ 22.66469879],\n",
       "       [ 58.23057443],\n",
       "       [ 22.66469879],\n",
       "       [ 18.60002728],\n",
       "       [ 24.69703454],\n",
       "       [ 64.32758169],\n",
       "       [ 20.63236303],\n",
       "       [ 59.24674231],\n",
       "       [ 18.60002728],\n",
       "       [ 15.55152366],\n",
       "       [ 41.97188842],\n",
       "       [ 42.9880563 ],\n",
       "       [ 61.27907806],\n",
       "       [ 92.78028221],\n",
       "       [ 10.47068428],\n",
       "       [ 40.95572055],\n",
       "       [  0.30900552],\n",
       "       [  7.42218065],\n",
       "       [ 71.44075682],\n",
       "       [ 46.03655993],\n",
       "       [ 55.18207081],\n",
       "       [ 62.29524594],\n",
       "       [ 47.0527278 ]])"
      ]
     },
     "execution_count": 26,
     "metadata": {},
     "output_type": "execute_result"
    }
   ],
   "source": [
    "pred"
   ]
  },
  {
   "cell_type": "code",
   "execution_count": 28,
   "id": "a0cad9ec",
   "metadata": {},
   "outputs": [
    {
     "data": {
      "text/plain": [
       "<matplotlib.collections.PathCollection at 0x18cae34fd60>"
      ]
     },
     "execution_count": 28,
     "metadata": {},
     "output_type": "execute_result"
    },
    {
     "data": {
      "image/png": "[encoded data removed]",
      "text/plain": [
       "<Figure size 432x288 with 1 Axes>"
      ]
     },
     "metadata": {
      "needs_background": "light"
     },
     "output_type": "display_data"
    }
   ],
   "source": [
    "plt.scatter(y,pred)"
   ]
  },
  {
   "cell_type": "code",
   "execution_count": 29,
   "id": "e8378879",
   "metadata": {},
   "outputs": [
    {
     "data": {
      "text/plain": [
       "[<matplotlib.lines.Line2D at 0x18ca8445790>]"
      ]
     },
     "execution_count": 29,
     "metadata": {},
     "output_type": "execute_result"
    },
    {
     "data": {
      "image/png": "[encoded data removed]",
      "text/plain": [
       "<Figure size 432x288 with 1 Axes>"
      ]
     },
     "metadata": {
      "needs_background": "light"
     },
     "output_type": "display_data"
    }
   ],
   "source": [
    "plt.plot(y,pred)"
   ]
  },
  {
   "cell_type": "code",
   "execution_count": 30,
   "id": "370b4ec5",
   "metadata": {},
   "outputs": [],
   "source": [
    "from sklearn.metrics import mean_absolute_error"
   ]
  },
  {
   "cell_type": "code",
   "execution_count": 42,
   "id": "384cfc5e",
   "metadata": {},
   "outputs": [],
   "source": [
    "from sklearn.metrics import mean_squared_error"
   ]
  },
  {
   "cell_type": "code",
   "execution_count": 43,
   "id": "a2662ed7",
   "metadata": {},
   "outputs": [
    {
     "data": {
      "text/plain": [
       "0.4049266534861097"
      ]
     },
     "execution_count": 43,
     "metadata": {},
     "output_type": "execute_result"
    }
   ],
   "source": [
    "mean_absolute_error(x,pred)"
   ]
  },
  {
   "cell_type": "code",
   "execution_count": 44,
   "id": "44f03c73",
   "metadata": {},
   "outputs": [
    {
     "data": {
      "text/plain": [
       "2.4063803641036148"
      ]
     },
     "execution_count": 44,
     "metadata": {},
     "output_type": "execute_result"
    }
   ],
   "source": [
    "mean_absolute_error(y,pred)"
   ]
  },
  {
   "cell_type": "code",
   "execution_count": 45,
   "id": "8b625d85",
   "metadata": {},
   "outputs": [
    {
     "data": {
      "text/plain": [
       "0.22522144291623117"
      ]
     },
     "execution_count": 45,
     "metadata": {},
     "output_type": "execute_result"
    }
   ],
   "source": [
    "mean_squared_error(x,pred)"
   ]
  },
  {
   "cell_type": "code",
   "execution_count": 46,
   "id": "64a139ca",
   "metadata": {},
   "outputs": [
    {
     "data": {
      "text/plain": [
       "9.190113992738691"
      ]
     },
     "execution_count": 46,
     "metadata": {},
     "output_type": "execute_result"
    }
   ],
   "source": [
    "mean_squared_error(y,pred)"
   ]
  },
  {
   "cell_type": "code",
   "execution_count": 48,
   "id": "1b4a10f1",
   "metadata": {},
   "outputs": [
    {
     "data": {
      "text/plain": [
       "3.031520079553934"
      ]
     },
     "execution_count": 48,
     "metadata": {},
     "output_type": "execute_result"
    }
   ],
   "source": [
    "np.sqrt(mean_squared_error(y,pred))"
   ]
  },
  {
   "cell_type": "code",
   "execution_count": null,
   "id": "2589192e",
   "metadata": {},
   "outputs": [],
   "source": []
  }
 ],
 "metadata": {
  "kernelspec": {
   "display_name": "Python 3",
   "language": "python",
   "name": "python3"
  },
  "language_info": {
   "codemirror_mode": {
    "name": "ipython",
    "version": 3
   },
   "file_extension": ".py",
   "mimetype": "text/x-python",
   "name": "python",
   "nbconvert_exporter": "python",
   "pygments_lexer": "ipython3",
   "version": "3.8.8"
  }
 },
 "nbformat": 4,
 "nbformat_minor": 5
}
